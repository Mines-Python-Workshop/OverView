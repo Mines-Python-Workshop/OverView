{
 "cells": [
  {
   "cell_type": "markdown",
   "metadata": {},
   "source": [
    "# Intro to Data Types and basic operations"
   ]
  },
  {
   "cell_type": "markdown",
   "metadata": {},
   "source": [
    "## Data Types\n",
    "\n",
    "Computers, as many people know, think in terms of 1's and 0's. We have abstract ways of having those 1's and 0's represent numbers and symbols we can perform operations on. The way the computer knows how to store, handle, and perform operations on the abstract representations we are familiar with.\n",
    "\n",
    "We can check the type of a value using the `type()` function. We will get in to how to use this more later"
   ]
  },
  {
   "cell_type": "markdown",
   "metadata": {},
   "source": [
    "## The Print Function and a disclaimer\n",
    "\n",
    "Before we get into different data types and operations we can perform there are a few things you are going to need to know how to do in python. We will be taking these bits of code for granted now and explain them later. Code snippets like this will pop up throughout these instructions from time to time and  can be explained hopefully inside of them later, but python documentation exists for free many places on the internet depending on how deep of an explanation you want.\n",
    "\n",
    "The first bit of code we ewill need is the `print()` function. `print()` is used to output information to the terminal. `print()` outputs anythong inside the parentheses The example below outputs \"Hello World!\" to the terminal."
   ]
  },
  {
   "cell_type": "code",
   "execution_count": 26,
   "metadata": {},
   "outputs": [
    {
     "name": "stdout",
     "output_type": "stream",
     "text": [
      "Hello World!\n"
     ]
    }
   ],
   "source": [
    "print(\"Hello World!\")"
   ]
  },
  {
   "cell_type": "markdown",
   "metadata": {},
   "source": [
    "## Intigers\n",
    "\n",
    "Intigers are one of the built in data types in python (and many other languages).\n",
    "Intigers are whole numbers without a decimal place below is an example of how to use the `type()` function and `print()` function to check if something is an intiger.\n"
   ]
  },
  {
   "cell_type": "code",
   "execution_count": 27,
   "metadata": {},
   "outputs": [
    {
     "name": "stdout",
     "output_type": "stream",
     "text": [
      "7\n",
      "<class 'int'>\n"
     ]
    }
   ],
   "source": [
    "print(7)\n",
    "print(type(7))"
   ]
  },
  {
   "cell_type": "markdown",
   "metadata": {},
   "source": [
    "## Floats\n",
    "\n",
    "Floats, or floating point numbers are another basic data type implemented in different coding languages.\n",
    "\n",
    "Floats, for our purposes, are any number with a decimal.\n",
    "You may wonder why we would ever use an intiger when we can get more precission with floating point numbers. This is a great question. Floats are represented differently in computer memory and therefore take up more space. For the computer this is analogous to a human reading the word \"cat\" versus reading the word \"supercalifragilisticexpialidocious\". If a number is an integer it is better not to convert it to something the computer will take longer to read every time it looks at it. Many applications for quick and dirty data processing will not be largely impacted, but it something to be aware of if you are ever interested in writing time efficient code.\n",
    "\n",
    "Below is an example of `type()` and `print()` to check if a float is a float.\n"
   ]
  },
  {
   "cell_type": "code",
   "execution_count": 28,
   "metadata": {},
   "outputs": [
    {
     "name": "stdout",
     "output_type": "stream",
     "text": [
      "3.14159\n",
      "<class 'float'>\n"
     ]
    }
   ],
   "source": [
    "print(3.14159)\n",
    "print(type(3.14159))"
   ]
  },
  {
   "cell_type": "markdown",
   "metadata": {},
   "source": [
    "## Basic Math operations\n",
    "\n",
    "Very regularly we need to perform an operation on a number. Python can perform these operations using the symbols below.\n",
    "\n",
    "- `+`  Addition\n",
    "- `-`  Subtraction\n",
    "- `*`  Multiplication\n",
    "- `/`  Divission\n",
    "- `//` Floor Division (rounds down to the nearest intiger)\n",
    "- `**` exponentiation\n",
    "- `%`  Modulus This is more useful than you think once we get in to loops\n",
    "\n",
    "The Modulo operator can be one people may be unfamiliar with. One way to think about it is that it returns the remainder of a division operation. 5 % 2 = 1 for example.\n",
    "\n",
    "You can perform many operations in the same line. Python follows the standard order of operations but adding parenthesis never hurts. Below is an example where we calculate the area and circumference of a circle of radius 4."
   ]
  },
  {
   "cell_type": "code",
   "execution_count": 29,
   "metadata": {},
   "outputs": [
    {
     "name": "stdout",
     "output_type": "stream",
     "text": [
      "Area:\n",
      "50.26544\n",
      "Circumference:\n",
      "25.13272\n"
     ]
    }
   ],
   "source": [
    "print(\"Area:\")\n",
    "print(3.14159 * 4**2)\n",
    "print(\"Circumference:\")\n",
    "print(2 * 3.14159 * 4)"
   ]
  },
  {
   "cell_type": "markdown",
   "metadata": {},
   "source": [
    "## Booleans\n",
    "\n",
    "Booleans or bools only have two possible values `True` or `False`.\n",
    "\n",
    "Below is an example of using the `type()` and `print()` functions to output and check the data type of a bool."
   ]
  },
  {
   "cell_type": "code",
   "execution_count": 30,
   "metadata": {},
   "outputs": [
    {
     "name": "stdout",
     "output_type": "stream",
     "text": [
      "True\n",
      "<class 'bool'>\n"
     ]
    }
   ],
   "source": [
    "print(True)\n",
    "print(type(False))"
   ]
  },
  {
   "cell_type": "markdown",
   "metadata": {},
   "source": [
    "Booleans values can also be gotten from boolean operations. below is a list of boolean operations and when they return `True`\n",
    "\n",
    "- `==` iff one value is exactly the same as another value\n",
    "- `!=` iff one value is different than another value\n",
    "- `>`  iff one value is greater than another value\n",
    "- `<`  iff one value is less than anther value\n",
    "- `>=` iff one value is greater than or equal to another value\n",
    "- `<=` iff one Value is equal to another value\n",
    "\n",
    "- `and` iff both statements on either side of the operator are `True`\n",
    "- `or` if either of the statements on either side of the operator is `True`\n",
    "\n",
    "In terms of bollean algebra or statements are evaluated after and statements.\n",
    "\n",
    "We can perform these operations on other data types to output a boolean.\n",
    "below are some examples.\n"
   ]
  },
  {
   "cell_type": "code",
   "execution_count": 31,
   "metadata": {},
   "outputs": [
    {
     "name": "stdout",
     "output_type": "stream",
     "text": [
      "True\n",
      "False\n"
     ]
    }
   ],
   "source": [
    "print(5 >= 3 and 2 == 1 + 1)\n",
    "\n",
    "print(False or True == False or 4 == (16 ** (1/2)) and  False)"
   ]
  },
  {
   "cell_type": "markdown",
   "metadata": {},
   "source": [
    "## Strings\n",
    "\n",
    "String are arrays of characters (characters are their own data type but we will not address them here.). These are words, sentences, paragraphs, etc. We have already printed some in examples above. They are surrounded by `\"\"` or `''`. below is an example of the `print()` and `type()` functions being used to output and check the data type of strings. "
   ]
  },
  {
   "cell_type": "code",
   "execution_count": 32,
   "metadata": {},
   "outputs": [
    {
     "name": "stdout",
     "output_type": "stream",
     "text": [
      "Hello World!\n",
      "<class 'str'>\n",
      "3.14159\n",
      "<class 'str'>\n"
     ]
    }
   ],
   "source": [
    "print(\"Hello World!\")\n",
    "print(type(\"Hello World!\"))\n",
    "\n",
    "print(\"3.14159\")\n",
    "print(type(\"3.14159\"))"
   ]
  },
  {
   "cell_type": "markdown",
   "metadata": {},
   "source": [
    "Notice that in our example above we have what was previously considered a float now surrounded in parenthesis. This makes it a string. If we try to perfrom a mathematical operation on a string python will give us an error."
   ]
  },
  {
   "cell_type": "code",
   "execution_count": 33,
   "metadata": {},
   "outputs": [
    {
     "ename": "TypeError",
     "evalue": "can only concatenate str (not \"int\") to str",
     "output_type": "error",
     "traceback": [
      "\u001b[0;31m---------------------------------------------------------------------------\u001b[0m",
      "\u001b[0;31mTypeError\u001b[0m                                 Traceback (most recent call last)",
      "Cell \u001b[0;32mIn[33], line 1\u001b[0m\n\u001b[0;32m----> 1\u001b[0m \u001b[38;5;28mprint\u001b[39m(\u001b[38;5;124;43m\"\u001b[39;49m\u001b[38;5;124;43m3.14159\u001b[39;49m\u001b[38;5;124;43m\"\u001b[39;49m\u001b[43m  \u001b[49m\u001b[38;5;241;43m+\u001b[39;49m\u001b[43m \u001b[49m\u001b[38;5;241;43m200\u001b[39;49m)\n",
      "\u001b[0;31mTypeError\u001b[0m: can only concatenate str (not \"int\") to str"
     ]
    }
   ],
   "source": [
    "print(\"3.14159\"  + 200)"
   ]
  },
  {
   "cell_type": "markdown",
   "metadata": {},
   "source": [
    "We will talk about how to address this error a little bit later, but for now lets see what happens if we try to add two strings."
   ]
  },
  {
   "cell_type": "code",
   "execution_count": null,
   "metadata": {},
   "outputs": [
    {
     "name": "stdout",
     "output_type": "stream",
     "text": [
      "3.14159200\n",
      "2003.14159\n",
      "200 is a really big number\n"
     ]
    }
   ],
   "source": [
    "print(\"3.14159\" + \"200\")\n",
    "print(\"200\" + \"3.14159\")\n",
    "print(\"200\" + \" is a really big number!\")"
   ]
  },
  {
   "cell_type": "markdown",
   "metadata": {},
   "source": [
    "If two strings are \"added together\" we call this operation **concatenation**. You will notice our numbers were not added together they were smuched together as text. order matters here."
   ]
  },
  {
   "cell_type": "markdown",
   "metadata": {},
   "source": [
    "## Switching Between Data Types"
   ]
  },
  {
   "cell_type": "markdown",
   "metadata": {},
   "source": [
    "There will come times when you may have a float and maybe you want to concatonate that float to a string. You can use the following functions to switch between datatypes.\n",
    "\n",
    "- `int()` the object inside of the parenthesis is converted to an intiger.\n",
    "- `float()` the object inside of the parenthesis is converted to a floating point number.\n",
    "- `bool()` the object inside of the parenthesis is converted to a boolean.\n",
    "- `str()` the object inside of the parenthesis is converted to a string.\n",
    "\n",
    "below is an example of how one might use the 'str()' function."
   ]
  },
  {
   "cell_type": "code",
   "execution_count": 35,
   "metadata": {},
   "outputs": [
    {
     "name": "stdout",
     "output_type": "stream",
     "text": [
      "The area of a circle with radius 4 is 50.26544.\n"
     ]
    }
   ],
   "source": [
    "print(\"The area of a circle with radius 4 is \" + str(3.14159 * 4 ** 2) + \".\")"
   ]
  },
  {
   "cell_type": "markdown",
   "metadata": {},
   "source": [
    "## Other Data Types and Operations\n",
    "\n",
    "Plenty of other data types and operations exist in python. You will can even build some of your own to suit your needs. This barely scratches the surface, but these are some of the most fundamental you will encounter. We will address others as we need them. If you come across a problem with operations on simple data types it has probably been solved. There are a plethora of resources available online to help you understand and troubleshoot issues."
   ]
  },
  {
   "cell_type": "markdown",
   "metadata": {},
   "source": [
    "# Variables"
   ]
  },
  {
   "cell_type": "markdown",
   "metadata": {},
   "source": [
    "## Basics of Variables"
   ]
  },
  {
   "cell_type": "markdown",
   "metadata": {},
   "source": [
    "In examples above, specifically where I calculated the area and circumference of a circle I manually typed out all of those numbers so many times. What if, after I got my answers for a circle of radius 4 I was curious about a circle of radius 6? I would have to go through my code, find all of the 4's that represent my radius and manually change them. This might not be so bad for the small code example, but code can get mush longer and it could be hard to know which 4's represent the radius as well as make sure you get all of them changed.\n",
    "\n",
    "This is what variables are for. Variables allow us to assign a value to them so we may reuse them throughout our code. \n",
    "\n",
    "variables are assigned using the assignment operator `=`. Note that this is not the same as equals `==` which is a boolean operation.\n",
    "\n",
    "look at the examaple below where I rewrote our circle example but now using a variable for the radius."
   ]
  },
  {
   "cell_type": "code",
   "execution_count": 42,
   "metadata": {},
   "outputs": [
    {
     "name": "stdout",
     "output_type": "stream",
     "text": [
      "Area of a circle with radius 4:\n",
      "50.26544\n",
      "Circumference of a circle with radius 4:\n",
      "25.13272\n"
     ]
    }
   ],
   "source": [
    "radius = 4\n",
    "\n",
    "print(\"Area of a circle with radius \" + str(radius) + \":\")\n",
    "print(3.14159 * radius ** 2)\n",
    "print(\"Circumference of a circle with radius \" + str(radius) + \":\")\n",
    "print(2 * 3.14159 * radius)"
   ]
  },
  {
   "cell_type": "markdown",
   "metadata": {},
   "source": [
    "Admittedly this was more typing, but the typing is saved later when I want to change the radius to something else I only need to change it in one spot. I only need to change is on the first line where I assigned the radius value. Go ahead and change the value of radius and run it again a few times."
   ]
  },
  {
   "cell_type": "markdown",
   "metadata": {},
   "source": [
    "Variables also add readability to your code. Later, when your looking at your code it can make it much more clear to you or other people that you are performing operations using the radius. In fact, here is an example of some code I would consider much more readable and all we did was utylize variables."
   ]
  },
  {
   "cell_type": "code",
   "execution_count": 43,
   "metadata": {},
   "outputs": [
    {
     "name": "stdout",
     "output_type": "stream",
     "text": [
      "Area of a circle with radius 4:\n",
      "50.26544\n",
      "Circumference of a circle with radius 4:\n",
      "25.13272\n"
     ]
    }
   ],
   "source": [
    "radius  = 4\n",
    "pi = 3.14159\n",
    "\n",
    "circle_area = pi * radius ** 2\n",
    "circle_circumference =  2 * pi * radius\n",
    "\n",
    "print(\"Area of a circle with radius \" + str(radius) + \":\")\n",
    "print(circle_area)\n",
    "print(\"Circumference of a circle with radius \" + str(radius) + \":\")\n",
    "print(circle_circumference)"
   ]
  },
  {
   "cell_type": "markdown",
   "metadata": {},
   "source": [
    "The code above is much much longer than our original code just to get the sane output, but it is significantly more clear what each line is meant to do. I am much more confident that someone else or future me will have an easier time understanding what is happening as well as making changes as they need to. They could very easily modify the code do do calculations with a different radius or even a different precission of pi."
   ]
  },
  {
   "cell_type": "markdown",
   "metadata": {},
   "source": [
    "## Making good variable names"
   ]
  },
  {
   "cell_type": "markdown",
   "metadata": {},
   "source": [
    "There are certain rules that have to be followed with variable names. First of all,There are also a small number of words you can not use. Two examples you already know of are `True` and `False`. These are special keywords that python already recognizes as something else so it will not let you assign them a value.\n",
    "\n",
    "Variables are also **case sensitive**. `circle_circumference` and `Circle_Circumference` are two totally different variables. This is great because you can assign so many unique variable names, but it can also get frustrating when you capitalize something that you didn't assign.\n",
    "\n",
    "Additionally, variables cannot have spaces. some people, myself included, get around this with underscores `_`. There are other rules that are a little nuanced such as the use of certain special characters within or at the beginning of a variable name, but it is unlikely you will fun into that as long as you stick with starting with a letter and only using numbers and letters.\n",
    "\n",
    "To avoid getting in to trouble with variable names many people use conventions. below are some common ones.\n",
    "\n",
    "- this_is_snake_case\n",
    "- ThisIsPascalCase\n",
    "- thisIsCamelCase\n",
    "- THISISALLCAPS\n",
    "\n",
    "This is by no means an exhaustive list, and it is not important which one you or your group decides on, but staying consistent will save you so much time and headache later."
   ]
  },
  {
   "cell_type": "markdown",
   "metadata": {},
   "source": [
    "Another factor in a good variable name is how informative it is. In our circle calculation example I could have simply called `radius` `R` instead. It would have worked exactly the same and I would have saved myself some typing. This is very tempting, but it can make your code ambiguous. As your code gets longer and you are keeping track of more variables it can be hard to recall what `R` might stand for. You may think is is being used as the ideal gas constant.\n",
    "\n",
    "This is programming, and yes we will do some math, but there is no need for ambiguous short variable names. Save yourself some scrolling to find variable assignments and make descriptive variable names. You will thak yourself later.\n",
    "\n",
    "**A Note on readable code and the limits of variable names:**\n",
    "Assigning descriptive variable names is a great step to writing code that is easy to read later, but sometimes you can only do so much. Sometimes you want to leave yourself a little note in your code. This is what comments are for. Any line that begins with a `#` is a comment. Python does not read and interpret comments into actions. you can use comments to explicitly state exactly what a line or section of code is doing. Below is our circle example with some comments to aid in readablity later.\n"
   ]
  },
  {
   "cell_type": "code",
   "execution_count": 44,
   "metadata": {},
   "outputs": [
    {
     "name": "stdout",
     "output_type": "stream",
     "text": [
      "Area of a circle with radius 4:\n",
      "50.26544\n",
      "Circumference of a circle with radius 4:\n",
      "25.13272\n"
     ]
    }
   ],
   "source": [
    "# These variables hold values for the radius of a given circle and the value of pi.\n",
    "# They can be changed to find values for other circles or with highter precision.\n",
    "radius  = 4\n",
    "pi = 3.14159\n",
    "\n",
    "# Below I am calculating the area and circumference of a circle and storing them in variables.\n",
    "circle_area = pi * radius ** 2\n",
    "circle_circumference =  2 * pi * radius\n",
    "\n",
    "# The next four lines are outputing the values I calculated in a neat format. \n",
    "print(\"Area of a circle with radius \" + str(radius) + \":\")\n",
    "print(circle_area)\n",
    "print(\"Circumference of a circle with radius \" + str(radius) + \":\")\n",
    "print(circle_circumference)"
   ]
  }
 ],
 "metadata": {
  "kernelspec": {
   "display_name": "science_env",
   "language": "python",
   "name": "python3"
  },
  "language_info": {
   "codemirror_mode": {
    "name": "ipython",
    "version": 3
   },
   "file_extension": ".py",
   "mimetype": "text/x-python",
   "name": "python",
   "nbconvert_exporter": "python",
   "pygments_lexer": "ipython3",
   "version": "3.12.3"
  }
 },
 "nbformat": 4,
 "nbformat_minor": 2
}
