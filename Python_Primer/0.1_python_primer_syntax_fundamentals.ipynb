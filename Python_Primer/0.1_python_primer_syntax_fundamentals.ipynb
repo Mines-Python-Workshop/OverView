{
 "cells": [
  {
   "cell_type": "markdown",
   "metadata": {},
   "source": [
    "# Python Primer  \n",
    "Welcome to the Chemistry Department Programming Workshop Python Primer!  \n",
    "   \n",
    "This tutorial is meant to prepare you for the workshop activities to come, so it is important that all software and dependencies are functioning before our first full workshop day.  \n",
    "  \n",
    "This Python Primer consists of 3 sub-modules:  \n",
    "* [`0.0 Software Installation`](./0.0_python_primer_software_installation.md) – installing python, dependencies and text editor  \n",
    "* [`0.1 Syntax Fundamentals`](./0.1_python_primer_syntax_fundamentals.ipynb) – basic loops, types, functions and python philosophy  \n",
    "* [`0.2 Package Installation and Management`](./0.2_python_primer_package_installation_and_management.md) – how to handle problematic installations and read documentation\n",
    "## 0.1 Syntax Fundamentals\n",
    "---\n",
    "\n",
    "**Contents**  \n",
    "  \n",
    "In this module, you will:\n",
    " * [0.1.1 Introduction to Data Types](#data-types)\n",
    " * [0.1.2 Introduction to Variables](#variables)"
   ]
  },
  {
   "cell_type": "markdown",
   "metadata": {},
   "source": [
    "# Data Types\n",
    "\n",
    "Computers, as many people know, think in terms of 1's and 0's. We have abstract ways of having those 1's and 0's represent numbers and symbols we can perform operations on. The way the computer knows how to store, handle, and perform operations on the abstract representations we are familiar with.\n",
    "\n",
    "We can check the type of a value using the `type()` function. We will get in to how to use this more later."
   ]
  },
  {
   "cell_type": "markdown",
   "metadata": {},
   "source": [
    "## The Print Function and a Disclaimer\n",
    "\n",
    "Before we get into different data types and operations we can perform there are a few things you are going to need to know how to do in python. We will be taking these bits of code for granted now and explain them later. Code snippets like this will pop up throughout these instructions from time to time and can be explained hopefully inside of them later, but python documentation exists for free many places on the internet depending on how deep of an explanation you want.\n",
    "\n",
    "The first bit of code we will need is the `print()` function. `print()` is used to output information to the terminal. `print()` outputs anything inside the parentheses. The example below outputs \"Hello World!\" to the terminal."
   ]
  },
  {
   "cell_type": "code",
   "execution_count": 18,
   "metadata": {},
   "outputs": [
    {
     "name": "stdout",
     "output_type": "stream",
     "text": [
      "Hello World!\n"
     ]
    }
   ],
   "source": [
    "print(\"Hello World!\")"
   ]
  },
  {
   "cell_type": "markdown",
   "metadata": {},
   "source": [
    "## Integers\n",
    "\n",
    "Integers are one of the built in data types in python (and many other languages).\n",
    "Integers are whole numbers without a decimal place below is an example of how to use the `type()` function and `print()` function to check if something is an integer.\n"
   ]
  },
  {
   "cell_type": "code",
   "execution_count": 19,
   "metadata": {},
   "outputs": [
    {
     "name": "stdout",
     "output_type": "stream",
     "text": [
      "7\n",
      "<class 'int'>\n"
     ]
    }
   ],
   "source": [
    "print(7)\n",
    "print(type(7))"
   ]
  },
  {
   "cell_type": "markdown",
   "metadata": {},
   "source": [
    "## Floats\n",
    "\n",
    "Floats, or floating point numbers are another basic data type implemented in different coding languages.\n",
    "\n",
    "Floats, for our purposes, are any number with a decimal.\n",
    "You may wonder why we would ever use an intiger when we can get more precission with floating point numbers. This is a great question. Floats are represented differently in computer memory and therefore take up more space. For the computer this is analogous to a human reading the word \"cat\" versus reading the word \"supercalifragilisticexpialidocious\". If a number is an integer it is better not to convert it to something the computer will take longer to read every time it looks at it. Many applications for quick and dirty data processing will not be largely impacted, but it something to be aware of if you are ever interested in writing time efficient code.\n",
    "\n",
    "Below is an example of `type()` and `print()` to check if a float is a float.\n"
   ]
  },
  {
   "cell_type": "code",
   "execution_count": 20,
   "metadata": {},
   "outputs": [
    {
     "name": "stdout",
     "output_type": "stream",
     "text": [
      "3.14159\n",
      "<class 'float'>\n"
     ]
    }
   ],
   "source": [
    "print(3.14159)\n",
    "print(type(3.14159))"
   ]
  },
  {
   "cell_type": "markdown",
   "metadata": {},
   "source": [
    "## Basic Math operations\n",
    "\n",
    "Very regularly we need to perform an operation on a number. Python can perform these operations using the symbols below.\n",
    "\n",
    "- `+`  Addition\n",
    "- `-`  Subtraction\n",
    "- `*`  Multiplication\n",
    "- `/`  Division\n",
    "- `//` Floor Division (rounds down to the nearest intiger)\n",
    "- `**` exponentiation\n",
    "- `%`  Modulus This is more useful than you think once we get in to loops\n",
    "\n",
    "The Modulo operator can be one people may be unfamiliar with. One way to think about it is that it returns the remainder of a division operation. 5 % 2 = 1 for example.\n",
    "\n",
    "You can perform many operations in the same line. Python follows the standard order of operations but adding parenthesis never hurts. Below is an example where we calculate the area and circumference of a circle of radius 4."
   ]
  },
  {
   "cell_type": "code",
   "execution_count": 21,
   "metadata": {},
   "outputs": [
    {
     "name": "stdout",
     "output_type": "stream",
     "text": [
      "Area:\n",
      "50.26544\n",
      "Circumference:\n",
      "25.13272\n"
     ]
    }
   ],
   "source": [
    "print(\"Area:\")\n",
    "print(3.14159 * 4**2)\n",
    "print(\"Circumference:\")\n",
    "print(2 * 3.14159 * 4)"
   ]
  },
  {
   "cell_type": "markdown",
   "metadata": {},
   "source": [
    "## Booleans\n",
    "\n",
    "Booleans or bools only have two possible values `True` or `False`.\n",
    "\n",
    "Below is an example of using the `type()` and `print()` functions to output and check the data type of a bool."
   ]
  },
  {
   "cell_type": "code",
   "execution_count": 22,
   "metadata": {},
   "outputs": [
    {
     "name": "stdout",
     "output_type": "stream",
     "text": [
      "True\n",
      "<class 'bool'>\n"
     ]
    }
   ],
   "source": [
    "print(True)\n",
    "print(type(False))"
   ]
  },
  {
   "cell_type": "markdown",
   "metadata": {},
   "source": [
    "Booleans values can also be gotten from boolean operations. below is a list of boolean operations and when they return `True`\n",
    "\n",
    "- `==` iff one value is exactly the same as another value\n",
    "- `!=` iff one value is different than another value\n",
    "- `>`  iff one value is greater than another value\n",
    "- `<`  iff one value is less than anther value\n",
    "- `>=` iff one value is greater than or equal to another value\n",
    "- `<=` iff one Value is equal to another value\n",
    "\n",
    "- `and` iff both statements on either side of the operator are `True`\n",
    "- `or` if either of the statements on either side of the operator is `True`\n",
    "\n",
    "In terms of boolean algebra or statements are evaluated after and statements.\n",
    "\n",
    "We can perform these operations on other data types to output a boolean.\n",
    "below are some examples.\n"
   ]
  },
  {
   "cell_type": "code",
   "execution_count": 23,
   "metadata": {},
   "outputs": [
    {
     "name": "stdout",
     "output_type": "stream",
     "text": [
      "True\n",
      "False\n"
     ]
    }
   ],
   "source": [
    "print(5 >= 3 and 2 == 1 + 1)\n",
    "\n",
    "print(False or True == False or 4 == (16 ** (1/2)) and  False)"
   ]
  },
  {
   "cell_type": "markdown",
   "metadata": {},
   "source": [
    "## Strings\n",
    "\n",
    "Strings are arrays of characters (characters are their own data type but we will not address them here.). These are words, sentences, paragraphs, etc. We have already printed some in examples above. They are surrounded by `\"\"` or `''`. Below is an example of the `print()` and `type()` functions being used to output and check the data type of strings. "
   ]
  },
  {
   "cell_type": "code",
   "execution_count": 24,
   "metadata": {},
   "outputs": [
    {
     "name": "stdout",
     "output_type": "stream",
     "text": [
      "Hello World!\n",
      "<class 'str'>\n",
      "3.14159\n",
      "<class 'str'>\n"
     ]
    }
   ],
   "source": [
    "print(\"Hello World!\")\n",
    "print(type(\"Hello World!\"))\n",
    "\n",
    "print(\"3.14159\")\n",
    "print(type(\"3.14159\"))"
   ]
  },
  {
   "cell_type": "markdown",
   "metadata": {},
   "source": [
    "Notice that in our example above we have what was previously considered a float now surrounded in parenthesis. This makes it a string. If we try to perfrom a mathematical operation on a string python will give us an error."
   ]
  },
  {
   "cell_type": "code",
   "execution_count": 25,
   "metadata": {},
   "outputs": [
    {
     "ename": "TypeError",
     "evalue": "can only concatenate str (not \"int\") to str",
     "output_type": "error",
     "traceback": [
      "\u001b[1;31m---------------------------------------------------------------------------\u001b[0m",
      "\u001b[1;31mTypeError\u001b[0m                                 Traceback (most recent call last)",
      "Cell \u001b[1;32mIn[25], line 1\u001b[0m\n\u001b[1;32m----> 1\u001b[0m \u001b[38;5;28mprint\u001b[39m(\u001b[38;5;124;43m\"\u001b[39;49m\u001b[38;5;124;43m3.14159\u001b[39;49m\u001b[38;5;124;43m\"\u001b[39;49m\u001b[43m  \u001b[49m\u001b[38;5;241;43m+\u001b[39;49m\u001b[43m \u001b[49m\u001b[38;5;241;43m200\u001b[39;49m)\n",
      "\u001b[1;31mTypeError\u001b[0m: can only concatenate str (not \"int\") to str"
     ]
    }
   ],
   "source": [
    "print(\"3.14159\"  + 200)"
   ]
  },
  {
   "cell_type": "markdown",
   "metadata": {},
   "source": [
    "We will talk about how to address this error a little bit later, but for now lets see what happens if we try to add two strings."
   ]
  },
  {
   "cell_type": "code",
   "execution_count": null,
   "metadata": {},
   "outputs": [
    {
     "name": "stdout",
     "output_type": "stream",
     "text": [
      "3.14159200\n",
      "2003.14159\n",
      "200 is a really big number\n"
     ]
    }
   ],
   "source": [
    "print(\"3.14159\" + \"200\")\n",
    "print(\"200\" + \"3.14159\")\n",
    "print(\"200\" + \" is a really big number!\")"
   ]
  },
  {
   "cell_type": "markdown",
   "metadata": {},
   "source": [
    "If two strings are \"added together\" we call this operation **concatenation**. You will notice our numbers were not added together they were smuched together as text. Order matters here."
   ]
  },
  {
   "cell_type": "markdown",
   "metadata": {},
   "source": [
    "## Switching Between Data Types"
   ]
  },
  {
   "cell_type": "markdown",
   "metadata": {},
   "source": [
    "There will come times when you may have a float and maybe you want to concatenate that float to a string. You can use the following functions to switch between datatypes.\n",
    "\n",
    "- `int()` the object inside of the parenthesis is converted to an integer.\n",
    "- `float()` the object inside of the parenthesis is converted to a floating point number.\n",
    "- `bool()` the object inside of the parenthesis is converted to a boolean.\n",
    "- `str()` the object inside of the parenthesis is converted to a string.\n",
    "\n",
    "Below is an example of how one might use the 'str()' function."
   ]
  },
  {
   "cell_type": "code",
   "execution_count": null,
   "metadata": {},
   "outputs": [
    {
     "name": "stdout",
     "output_type": "stream",
     "text": [
      "The area of a circle with radius 4 is 50.26544.\n"
     ]
    }
   ],
   "source": [
    "print(\"The area of a circle with radius 4 is \" + str(3.14159 * 4 ** 2) + \".\")"
   ]
  },
  {
   "cell_type": "markdown",
   "metadata": {},
   "source": [
    "## Other Data Types and Operations\n",
    "\n",
    "Plenty of other data types and operations exist in python. You will can even build some of your own to suit your needs. This barely scratches the surface, but these are some of the most fundamental you will encounter. We will address others as we need them. If you come across a problem with operations on simple data types it has probably been solved. There are a plethora of resources available online to help you understand and troubleshoot issues."
   ]
  },
  {
   "cell_type": "markdown",
   "metadata": {},
   "source": [
    "# Variables"
   ]
  },
  {
   "cell_type": "markdown",
   "metadata": {},
   "source": [
    "## Basics of Variables"
   ]
  },
  {
   "cell_type": "markdown",
   "metadata": {},
   "source": [
    "In examples above, specifically where I calculated the area and circumference of a circle I manually typed out all of those numbers so many times. What if, after I got my answers for a circle of radius 4 I was curious about a circle of radius 6? I would have to go through my code, find all of the 4's that represent my radius and manually change them. This might not be so bad for the small code example, but code can get mush longer and it could be hard to know which 4's represent the radius as well as make sure you get all of them changed.\n",
    "\n",
    "This is what variables are for. Variables allow us to assign a value to them so we may reuse them throughout our code. \n",
    "\n",
    "Variables are assigned using the assignment operator `=`. Note that this is not the same as equals `==` which is a boolean operation.\n",
    "\n",
    "Look at the example below where I rewrote our circle example but now using a variable for the radius."
   ]
  },
  {
   "cell_type": "code",
   "execution_count": null,
   "metadata": {},
   "outputs": [
    {
     "name": "stdout",
     "output_type": "stream",
     "text": [
      "Area of a circle with radius 4:\n",
      "50.26544\n",
      "Circumference of a circle with radius 4:\n",
      "25.13272\n"
     ]
    }
   ],
   "source": [
    "radius = 4\n",
    "\n",
    "print(\"Area of a circle with radius \" + str(radius) + \":\")\n",
    "print(3.14159 * radius ** 2)\n",
    "print(\"Circumference of a circle with radius \" + str(radius) + \":\")\n",
    "print(2 * 3.14159 * radius)"
   ]
  },
  {
   "cell_type": "markdown",
   "metadata": {},
   "source": [
    "Admittedly this was more typing, but the typing is saved later when I want to change the radius to something else I only need to change it in one spot. I only need to change is on the first line where I assigned the radius value. Go ahead and change the value of radius and run it again a few times."
   ]
  },
  {
   "cell_type": "markdown",
   "metadata": {},
   "source": [
    "Variables also add readability to your code. Later, when your looking at your code it can make it much more clear to you or other people that you are performing operations using the radius. In fact, here is an example of some code I would consider much more readable and all we did was utilize variables."
   ]
  },
  {
   "cell_type": "code",
   "execution_count": null,
   "metadata": {},
   "outputs": [
    {
     "name": "stdout",
     "output_type": "stream",
     "text": [
      "Area of a circle with radius 4:\n",
      "50.26544\n",
      "Circumference of a circle with radius 4:\n",
      "25.13272\n"
     ]
    }
   ],
   "source": [
    "radius  = 4\n",
    "pi = 3.14159\n",
    "\n",
    "circle_area = pi * radius ** 2\n",
    "circle_circumference =  2 * pi * radius\n",
    "\n",
    "print(\"Area of a circle with radius \" + str(radius) + \":\")\n",
    "print(circle_area)\n",
    "print(\"Circumference of a circle with radius \" + str(radius) + \":\")\n",
    "print(circle_circumference)"
   ]
  },
  {
   "cell_type": "markdown",
   "metadata": {},
   "source": [
    "The code above is much much longer than our original code just to get the sane output, but it is significantly more clear what each line is meant to do. I am much more confident that someone else or future me will have an easier time understanding what is happening as well as making changes as they need to. They could very easily modify the code do do calculations with a different radius or even a different precision of pi."
   ]
  },
  {
   "cell_type": "markdown",
   "metadata": {},
   "source": [
    "## Making good variable names"
   ]
  },
  {
   "cell_type": "markdown",
   "metadata": {},
   "source": [
    "There are certain rules that have to be followed with variable names. First of all, there are also a small number of words you can not use. Two examples you already know of are `True` and `False`. These are special keywords that python already recognizes as something else so it will not let you assign them a value.\n",
    "\n",
    "Variables are also **case sensitive**. `circle_circumference` and `Circle_Circumference` are two totally different variables. This is great because you can assign so many unique variable names, but it can also get frustrating when you capitalize something that you didn't assign.\n",
    "\n",
    "Additionally, variables cannot have spaces. some people, myself included, get around this with underscores `_`. There are other rules that are a little nuanced such as the use of certain special characters within or at the beginning of a variable name, but it is unlikely you will fun into that as long as you stick with starting with a letter and only using numbers and letters.\n",
    "\n",
    "To avoid getting in to trouble with variable names many people use conventions. below are some common ones.\n",
    "\n",
    "- this_is_snake_case\n",
    "- ThisIsPascalCase\n",
    "- thisIsCamelCase\n",
    "- THISISALLCAPS\n",
    "\n",
    "This is by no means an exhaustive list, and it is not important which one you or your group decides on, but staying consistent will save you so much time and headache later."
   ]
  },
  {
   "cell_type": "markdown",
   "metadata": {},
   "source": [
    "Another factor in a good variable name is how informative it is. In our circle calculation example I could have simply called `radius` `R` instead. It would have worked exactly the same and I would have saved myself some typing. This is very tempting, but it can make your code ambiguous. As your code gets longer and you are keeping track of more variables it can be hard to recall what `R` might stand for. You may think is is being used as the ideal gas constant.\n",
    "\n",
    "This is programming, and yes we will do some math, but there is no need for ambiguous short variable names. Save yourself some scrolling to find variable assignments and make descriptive variable names. You will thak yourself later.\n",
    "\n",
    "**A Note on readable code and the limits of variable names:**\n",
    "Assigning descriptive variable names is a great step to writing code that is easy to read later, but sometimes you can only do so much. Sometimes you want to leave yourself a little note in your code. This is what comments are for. Any line that begins with a `#` is a comment. Python does not read and interpret comments into actions. you can use comments to explicitly state exactly what a line or section of code is doing. Below is our circle example with some comments to aid in readablity later.\n"
   ]
  },
  {
   "cell_type": "code",
   "execution_count": null,
   "metadata": {},
   "outputs": [
    {
     "name": "stdout",
     "output_type": "stream",
     "text": [
      "Area of a circle with radius 4:\n",
      "50.26544\n",
      "Circumference of a circle with radius 4:\n",
      "25.13272\n"
     ]
    }
   ],
   "source": [
    "# These variables hold values for the radius of a given circle and the value of pi.\n",
    "# They can be changed to find values for other circles or with highter precision.\n",
    "radius  = 4\n",
    "pi = 3.14159\n",
    "\n",
    "# Below I am calculating the area and circumference of a circle and storing them in variables.\n",
    "circle_area = pi * radius ** 2\n",
    "circle_circumference =  2 * pi * radius\n",
    "\n",
    "# The next four lines are outputing the values I calculated in a neat format. \n",
    "print(\"Area of a circle with radius \" + str(radius) + \":\")\n",
    "print(circle_area)\n",
    "print(\"Circumference of a circle with radius \" + str(radius) + \":\")\n",
    "print(circle_circumference)"
   ]
  },
  {
   "cell_type": "markdown",
   "metadata": {},
   "source": [
    "# Loops"
   ]
  },
  {
   "cell_type": "markdown",
   "metadata": {},
   "source": [
    "Loops are an important part of programming and will save you a ton of time. In python there are two different kinds of loops `for` loops and `while` loops. We will talk about each of them in a bit but first lets demonstrate their power. If you have a menial task or a calculation that is repetitive that is when you use the loop. Lets take an example. Say you needed the sum the squares of the first 100 multiples of 13 or represented mathematically $\\sum^{100}_{i=1} (3i)^{2}$ (This wouldlikely not come up for you but this is just an intorduction). This would be annoying to do by hand, but it is easily solved in just a four lines of python (I'm not counting comment lines)."
   ]
  },
  {
   "cell_type": "code",
   "execution_count": null,
   "metadata": {},
   "outputs": [
    {
     "name": "stdout",
     "output_type": "stream",
     "text": [
      "3045150\n"
     ]
    }
   ],
   "source": [
    "# Setting an intial variable to hold our result as we go.\n",
    "final_value = 0\n",
    "# defining what we want to loop through.\n",
    "for i in range(1,101):\n",
    "    # performing operations inside the loop\n",
    "    final_value = final_value + (3*i)**2\n",
    "# Printing out our final answer once wwe have exited the loop.\n",
    "print(final_value)"
   ]
  },
  {
   "cell_type": "markdown",
   "metadata": {},
   "source": [
    "## For Loops"
   ]
  },
  {
   "cell_type": "markdown",
   "metadata": {},
   "source": [
    "`for` loops are less powerful than while loops, but usually are much easier to implement.\n",
    "Ther above for loop has the following anatomy. you start a line with `for` so python recognizes you are writing a for loop. next is a variable `i` to hold items as you loop through them. The use of `i` is a common convention but the name of this variable can be anything and I would encourage using a better variable name to make your code easier to read. Then the kyword `in` is used. here we use the range function. the range function essentially generates a list of intigers starting with the first parameter, and then up to but not including the second parameter. This is then all followed up with a `:` and anything indented after the for loop is what happens during each loop each loop. To understand what is happening in this loop and how to track a loop lets keep track of what is happening for a few cycles."
   ]
  },
  {
   "cell_type": "markdown",
   "metadata": {},
   "source": [
    "Step 0.) before the loop begins.\n",
    "\n",
    "final_value = 0 \n",
    "\n",
    "range then genetates a list of numbers 1 to 100:\n",
    "[1,2,3,4,5,6,...,100]\n",
    "\n",
    "-----------------------------------------------------------\n",
    "Step 1.) The first round of the Loop\n",
    "\n",
    "\n",
    "i is set to the first index value I will indicate where we in the loop with an arrow.\n",
    "\n",
    "[1,2,3,4,5,6,...,100]\n",
    "\n",
    ".^\n",
    "\n",
    "i = 1\n",
    "\n",
    "calculations are performed in the loop\n",
    "\n",
    "final_value = 0 + (3*1)**2\n",
    "\n",
    "and at the end of the loop\n",
    "\n",
    "final_value = 9\n",
    "\n",
    "-----------------------------------------------------------\n",
    "Step 2.) The second round of the Loop\n",
    "\n",
    "i is set to the second index value\n",
    "\n",
    "[1,2,3,4,5,6,...,100]\n",
    "\n",
    ".....^\n",
    "\n",
    "i = 2\n",
    "\n",
    "calculations are performed:\n",
    "\n",
    "final_value = 9 + (3*2)**2\n",
    "\n",
    "final_value = 45\n",
    "\n",
    "-----------------------------------------------------------\n",
    "Step 3.) The Third round of the Loop\n",
    "\n",
    "i is set to the second index value\n",
    "\n",
    "[1,2,3,4,5,6,...,100]\n",
    "\n",
    "........^\n",
    "\n",
    "i = 3\n",
    "\n",
    "calculations are performed:\n",
    "\n",
    "final_value = 45 + (3*3)**2\n",
    "\n",
    "final_value = 126\n",
    "\n",
    ".\n",
    ".\n",
    ".\n",
    "\n",
    "------------------------------------------------------------\n",
    "Step 100.) Te final round of the loop\n",
    "Step 3.) The Third round of the Loop\n",
    "\n",
    "i is set to the second index value\n",
    "\n",
    "[1,...96,97,98,99,100]\n",
    "\n",
    "..................................^\n",
    "\n",
    "i = 100\n",
    "\n",
    "calculations are performed:\n",
    "\n",
    "final_value = 2955150 + (3*100)**2\n",
    "\n",
    "final_value = 3045150\n",
    "\n",
    "Now that we have itterated through everything we escape this loop and continue to move down the code and print final value\n",
    "\n",
    "print(3045150)"
   ]
  },
  {
   "cell_type": "markdown",
   "metadata": {},
   "source": [
    "For loops can be used to loop through more than numbers look at the example below where we loop through a list of names to greet people."
   ]
  },
  {
   "cell_type": "code",
   "execution_count": null,
   "metadata": {},
   "outputs": [
    {
     "name": "stdout",
     "output_type": "stream",
     "text": [
      "Hello Bob.\n",
      "Hello Sue.\n",
      "Hello Tory.\n"
     ]
    }
   ],
   "source": [
    "Names_List = [\"Bob\",\"Sue\",\"Tory\"]\n",
    "\n",
    "for name in Names_List:\n",
    "    print(\"Hello \" + name + \".\")"
   ]
  },
  {
   "cell_type": "markdown",
   "metadata": {},
   "source": [
    "These are super simple examples of how to use a for loop, but if you find oyurself performing the same action aver and over on many different values or files you should immediately think of a loop then you should see if you can turn it into a `for` loop. If you dont have a clean completed list to iterate through or you cant get a set number of times you may need to loop then you may need a `while` loop."
   ]
  },
  {
   "cell_type": "markdown",
   "metadata": {},
   "source": [
    "## While Loops"
   ]
  },
  {
   "cell_type": "markdown",
   "metadata": {},
   "source": [
    "Lets start with an example problem. Lets say I have a loan of $26,000 with an 7.24% interest APY with a payment of $305 a month. I want to know, or at least get a decent estimate of how long it will take to pay off the car. below is an annotated snippent of code."
   ]
  },
  {
   "cell_type": "code",
   "execution_count": null,
   "metadata": {},
   "outputs": [
    {
     "name": "stdout",
     "output_type": "stream",
     "text": [
      "You will pay off your loan in 120 months or 10.0 years.\n"
     ]
    }
   ],
   "source": [
    "# This top section is where I store information in well named variables for easy location and editing later.\n",
    "# The principle amount on a loan\n",
    "Loan = 26000\n",
    "# This is a multiplier for how much interest will acrue each month after payment.\n",
    "Monthly_Interest_Multiplier = 1 + .0724/12\n",
    "# The amount a person is paying each month\n",
    "Monthly_Payment = 305\n",
    "\n",
    "# These are accumulators that will be changed as we loop through\n",
    "# The current month a person is on in there loan\n",
    "Months_Passed = 0\n",
    "# The ammount of the loan remaining.\n",
    "Loan_Remaining = Loan\n",
    "\n",
    "# The opening of a while loop. This Loop keeps going until the Loan_Remaining variable is less than 0\n",
    "while Loan_Remaining > 0:\n",
    "    # Subtracting the monthly payment from the remaining amount of the loan.\n",
    "    Loan_Remaining = Loan_Remaining - Monthly_Payment\n",
    "    # Applying Inteterest\n",
    "    Loan_Remaining = Loan_Remaining * Monthly_Interest_Multiplier\n",
    "    # Adding 1 to the month counter \n",
    "    Months_Passed = Months_Passed + 1\n",
    "\n",
    "\n",
    "# Here I am no longer inside the loop and I have my answer in Months_Passed, but I convert it to the number of years for ease of reading.\n",
    "Years_Passed = Months_Passed/12\n",
    "# Printing out Results\n",
    "print(\"You will pay off your loan in \" + str(Months_Passed) + \" months or \" + str(round(Years_Passed,2)) + \" years.\")"
   ]
  },
  {
   "cell_type": "markdown",
   "metadata": {},
   "source": [
    "The above is a good example of when to use a `while` loop. We can't use a `for` loop because we dont know how many times we will have to loop. We are waiting for the Remaining ammount of loan to be equal to or less than 0. `while` loops, rather than iterating through something, iterate until a condition is me. In this case it evaluates if `Loan_Remaining > 0`. We can now change the `Monthly_Payment` variable to different values and see how long it will take to pay off the loan if we pay slightly more or less. Feel free to edit the above code and play around with different values."
   ]
  },
  {
   "cell_type": "markdown",
   "metadata": {},
   "source": [
    "Caution! While loops have an issue. What if your statement never evaluates to `False`?  For the above example you could make the monthly payment of $20 which would not cover the interest of the loan. The loan would continue to grow and it would NEVER evaluate to 0 or anything less than 0. The while loop would go forever. Not Litterally though, your computer has limits. Sometimes it will crash, sometimes it will over heat, sometimes you get so tired of waiting you kill the program. These unintended outcomes from unanticipated inputs or values are called \"edge cases\". we can account for them and we will talk about how to handle them in the next section on conditionals."
   ]
  },
  {
   "cell_type": "markdown",
   "metadata": {},
   "source": [
    "# Conditionals or If Statements"
   ]
  },
  {
   "cell_type": "markdown",
   "metadata": {},
   "source": [
    "Sometimes you may only want something to happen or a peice of code to run if a certain condition is met. Lets"
   ]
  }
 ],
 "metadata": {
  "kernelspec": {
   "display_name": "science_env",
   "language": "python",
   "name": "python3"
  },
  "language_info": {
   "codemirror_mode": {
    "name": "ipython",
    "version": 3
   },
   "file_extension": ".py",
   "mimetype": "text/x-python",
   "name": "python",
   "nbconvert_exporter": "python",
   "pygments_lexer": "ipython3",
   "version": "3.12.3"
  }
 },
 "nbformat": 4,
 "nbformat_minor": 2
}
