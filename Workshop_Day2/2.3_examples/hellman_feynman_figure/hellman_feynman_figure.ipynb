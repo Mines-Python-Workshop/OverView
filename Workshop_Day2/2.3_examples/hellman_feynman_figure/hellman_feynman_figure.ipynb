{
 "cells": [
  {
   "cell_type": "markdown",
   "metadata": {},
   "source": [
    "### Hellman-Feynman Analysis Figure\n",
    "This notebook makes the 4 panel hellman-feynman analysis figure."
   ]
  },
  {
   "cell_type": "code",
   "execution_count": null,
   "metadata": {},
   "outputs": [],
   "source": [
    "# configure plotting parameters\n",
    "\n",
    "%config InlineBackend.figure_format='svg'\n",
    "%matplotlib inline\n",
    "import matplotlib.pyplot as plt\n",
    "from matplotlib import font_manager\n",
    "plt.rcParams['font.family'] = 'Helvetica'\n",
    "plt.rcParams['font.size'] = 14"
   ]
  },
  {
   "cell_type": "markdown",
   "metadata": {},
   "source": [
    "### Define general use plotting functions"
   ]
  },
  {
   "cell_type": "code",
   "execution_count": null,
   "metadata": {},
   "outputs": [],
   "source": [
    "import pandas as pd\n",
    "import numpy as np\n",
    "import matplotlib.pyplot as plt\n",
    "\n",
    "\n",
    "# general plotting function - default to normalize\n",
    "def plot_data(dataframe, axis,  y, ylabel, x = \"bond_angle[deg]\", normalize = True, \n",
    "              legend = True, legend_loc = \"upper left\", markersize = 3, linewidth = 1):\n",
    "\n",
    "    # group the dataframe by heteroatom and plot the results\n",
    "    colors = iter([\"dodgerblue\", \"dimgray\"])\n",
    "    linestyles = iter([\"solid\", \"dashed\"])\n",
    "    markerstyles = iter([\"o\", \"D\"])\n",
    "    for series_name, group in dataframe.groupby('heteroatom'):\n",
    "\n",
    "        group.sort_values(x, inplace=True)\n",
    "        x_data = group[x]\n",
    "        y_data = group[y]\n",
    "\n",
    "        if normalize == True:\n",
    "            y_data = normalize_data(y_data)\n",
    "\n",
    "        mycolor = next(colors)\n",
    "        axis.plot(x_data, y_data, markersize = markersize, mfc=mycolor, mec=mycolor, linewidth = linewidth,  marker=next(markerstyles), \n",
    "                  linestyle=next(linestyles), label=f\"C{series_name}$_3$ radical\", color=\"black\")\n",
    "\n",
    "    axis.set_xlabel('\\u03B8\\u00B0'), axis.set_ylabel(ylabel)\n",
    "\n",
    "    ymin, ymax = axis.get_ylim()\n",
    "    vertical_lines = [111.4, 120]\n",
    "\n",
    "    axis.vlines(vertical_lines, ymin, ymax, color=\"red\")\n",
    "\n",
    "    if legend == True:\n",
    "        axis.legend(loc = legend_loc, facecolor=\"white\", framealpha=1)\n",
    "\n",
    "\n",
    "def normalize_data(data):\n",
    "    # normalize to (0,1)\n",
    "    normalized_data = (data - np.min(data)) / (np.max(data) - np.min(data))\n",
    "    return normalized_data"
   ]
  },
  {
   "cell_type": "markdown",
   "metadata": {},
   "source": [
    "### Make the figure"
   ]
  },
  {
   "cell_type": "code",
   "execution_count": null,
   "metadata": {},
   "outputs": [],
   "source": [
    "import matplotlib.image as im\n",
    "from matplotlib.offsetbox import (OffsetImage, AnnotationBbox)\n",
    "import sys; sys.path.insert(0, './')\n",
    "\n",
    "hellman_feynman_dataframe = pd.read_csv(\"./merged_data.csv\")\n",
    "\n",
    "fig2, axs2 = plt.subplots(2,2, figsize=(10,10))\n",
    "\n",
    "\n",
    "y_data_list = [\"C_tot_z_force[hartree/bohr]\", \"C_elec_z_force[hartree/bohr]\", \"C_nuc_z_force[hartree/bohr]\"]\n",
    "ylabel_list = [\"total force (z) on C [hartree/bohr]\", \"electronic force (z) on C [hartree/bohr]\", \"nuclear force (z) on C [hartree/bohr]\"]\n",
    "normalize_boolean = [False, False, False]\n",
    "panel_labels = list(\"ABC\")\n",
    "plot_indices = [(0,0), (0,1), (1,0)]\n",
    "legend_loc = [\"upper left\", \"upper left\", \"upper left\"]\n",
    "for i, id in enumerate(plot_indices):\n",
    "    try:\n",
    "        dataframe = hellman_feynman_dataframe\n",
    "        \n",
    "        plot_data(dataframe, axs2[id], y=y_data_list[i], ylabel=ylabel_list[i], normalize=normalize_boolean[i], legend_loc=legend_loc[i])\n",
    "        axs2[id].text(-0.1, 1.1, panel_labels[i], transform=axs2[id].transAxes,\n",
    "                   fontsize=20, fontweight='bold', va='top', ha='right')\n",
    "        xmin, xmax = axs2[id].get_xlim()\n",
    "        axs2[id].hlines(0, xmin, xmax, color=\"k\", linewidth=1)\n",
    "        \n",
    "    except Exception as e:\n",
    "        print(e)\n",
    "        pass\n",
    "\n",
    "# adding orbital images\n",
    "origin_key = im.imread(\"origin_xyz_key.png\")\n",
    "image_pos = [(0,0), (0,0), (0,0)]\n",
    "\n",
    "imagebox = OffsetImage(origin_key, zoom=0.3)\n",
    "ab = AnnotationBbox(imagebox, (0.5,0.5), frameon=False)\n",
    "axs2[1,1].add_artist(ab)\n",
    "\n",
    "\n",
    "axs2[1,1].get_xaxis().set_visible(False)\n",
    "axs2[1,1].get_yaxis().set_visible(False)\n",
    "axs2[1,1].text(-0.1, 1.1, \"D\", transform=axs2[1,1].transAxes,\n",
    "                   fontsize=20, fontweight='bold', va='top', ha='right')\n",
    "\n",
    "axs2[0,0].set_xticks(np.arange(95,125,5))\n",
    "axs2[1,0].set_xticks(np.arange(95,125,5))\n",
    "axs2[0,1].set_xticks(np.arange(95,125,5))\n",
    "\n",
    "fig2.tight_layout()"
   ]
  }
 ],
 "metadata": {
  "language_info": {
   "name": "python"
  }
 },
 "nbformat": 4,
 "nbformat_minor": 2
}
